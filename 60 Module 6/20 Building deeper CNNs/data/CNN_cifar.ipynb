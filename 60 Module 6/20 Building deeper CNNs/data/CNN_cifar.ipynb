{
 "cells": [
  {
   "cell_type": "markdown",
   "metadata": {
    "deletable": false,
    "editable": false,
    "id": "GWYEzUhzWJCQ",
    "nbgrader": {
     "cell_type": "markdown",
     "checksum": "ec5dc4c790898cff3c203c21b91e333c",
     "grade": false,
     "grade_id": "cell-7b9311395a6a8329",
     "locked": true,
     "schema_version": 3,
     "solution": false,
     "task": false
    }
   },
   "source": [
    "# Building a deep convolutional neural network\n",
    "\n",
    "You should run this notebook online in either [Kaggle](https://www.kaggle.com/) or [Google Colab](https://colab.research.google.com), as described on the *Running notebooks online* page for this module. When running the notebook online, you can access machines with a GPU, which will make training the networks a lot faster. The cell below tests if you are indeed running on a machine with a GPU."
   ]
  },
  {
   "cell_type": "code",
   "execution_count": null,
   "metadata": {
    "colab": {
     "base_uri": "https://localhost:8080/"
    },
    "deletable": false,
    "editable": false,
    "id": "A_rxgpyyWJCW",
    "nbgrader": {
     "cell_type": "code",
     "checksum": "e7bd85d7794520d1a504171c322d086a",
     "grade": false,
     "grade_id": "cell-29f2473168ce98d4",
     "locked": true,
     "schema_version": 3,
     "solution": false,
     "task": false
    },
    "outputId": "028f55aa-5a0d-43d1-e6d9-0d5747b04eb1"
   },
   "outputs": [],
   "source": [
    "import tensorflow as tf\n",
    "\n",
    "print(tf.config.list_physical_devices('GPU'))"
   ]
  },
  {
   "cell_type": "markdown",
   "metadata": {
    "deletable": false,
    "editable": false,
    "id": "f5q55_sgWJCb",
    "nbgrader": {
     "cell_type": "markdown",
     "checksum": "afdea50fd374897e582f1e8d0a3fc1bb",
     "grade": false,
     "grade_id": "cell-806a206d3ac907bd",
     "locked": true,
     "schema_version": 3,
     "solution": false,
     "task": false
    }
   },
   "source": [
    "If everything is working correctly, you should see a single GPU listed as the device for this machine.\n",
    "\n",
    "Google is offering quite an expensive resource to people for free, so there are some restrictions you should take into account. If you are inactive in the Colab for a while, you will get disconnected from the machine and it will be reassigned to someone else. If you use too much memory, either RAM or harddisk, you'll also get disconnected and have to reconnect to a new machine.\n",
    "\n",
    "Note that any time you get disconnected, switch runtime or restart the runtime, you will have to reconnect to a new machine. When this happens the whole notebook will be restarted, so you'll have to run any code cells, that for example load the data, again. Having to restart and rerun the cells can be a bit annoying, but it is a small inconvenience for getting free access to a GPU.\n",
    "\n",
    "## CIFAR-10 dataset\n",
    "\n",
    "Speaking of loading the data, run the cell below to download the CIFAR-10 dataset on this machine.\n"
   ]
  },
  {
   "cell_type": "code",
   "execution_count": null,
   "metadata": {
    "colab": {
     "base_uri": "https://localhost:8080/"
    },
    "deletable": false,
    "editable": false,
    "id": "Xsw6-IR4WJCd",
    "nbgrader": {
     "cell_type": "code",
     "checksum": "4f6774f5217c71ee0420dfbf9ca1cd52",
     "grade": false,
     "grade_id": "cell-a1325f9056f02700",
     "locked": true,
     "schema_version": 3,
     "solution": false,
     "task": false
    },
    "outputId": "443cfea8-d41b-4e44-f350-5e9df209fa1d"
   },
   "outputs": [],
   "source": [
    "![ ! -d 'cifar-10-batches-py' ] && curl -O https://www.cs.toronto.edu/~kriz/cifar-10-python.tar.gz\n",
    "![ ! -d 'cifar-10-batches-py' ] && tar -xzvf cifar-10-python.tar.gz"
   ]
  },
  {
   "cell_type": "markdown",
   "metadata": {
    "deletable": false,
    "editable": false,
    "id": "UPCD77ESWJCg",
    "nbgrader": {
     "cell_type": "markdown",
     "checksum": "d2f134d5abb48d478856cdc8db141b1b",
     "grade": false,
     "grade_id": "cell-b184746fe2d34898",
     "locked": true,
     "schema_version": 3,
     "solution": false,
     "task": false
    }
   },
   "source": [
    "The CIFAR-10 dataset is a classic dataset for deep learning and was originally created by Alex Krizhevsky. Start by reading the description of the dataset here: https://www.cs.toronto.edu/~kriz/cifar.html\n",
    "\n",
    "Take a look at the format of the images and the random samples from the 10 classes shown on the page there, and make sure you understand the classification task from the dataset before continuing.\n",
    "\n",
    "Below is some code to further unpack and prepare these 60.000 images. There are a couple of important things done as part of loading the data:\n",
    "\n",
    "* Each image is reshaped back to 32 x 32 pixels and 3 color channels using [np.reshape](https://numpy.org/doc/stable/reference/generated/numpy.reshape.html) \n",
    "* Each of the labels is transformed into a *one-hot encoding* using the [to_categorical](https://www.tensorflow.org/api_docs/python/tf/keras/utils/to_categorical) function.\n",
    "* The 5 separate files of training data are merged to a single *Numpy* array using [np.vstack](https://numpy.org/doc/stable/reference/generated/numpy.vstack.html)"
   ]
  },
  {
   "cell_type": "code",
   "execution_count": null,
   "metadata": {
    "deletable": false,
    "editable": false,
    "id": "4FpChjfoWJCi",
    "nbgrader": {
     "cell_type": "code",
     "checksum": "e34b7bd56b53ea5f7396c60f7db20c0c",
     "grade": false,
     "grade_id": "cell-f841b2dd74f70b2f",
     "locked": true,
     "schema_version": 3,
     "solution": false,
     "task": false
    }
   },
   "outputs": [],
   "source": [
    "import os\n",
    "import pickle\n",
    "import numpy as np\n",
    "\n",
    "def unpickle(filename):\n",
    "    with open(filename, 'rb') as fo:\n",
    "        data = pickle.load(fo, encoding='bytes')\n",
    "        images = [img.reshape((32,32,3), order='F') for img in data[b'data']]\n",
    "        \n",
    "        labels = tf.keras.utils.to_categorical(data[b'labels'])\n",
    "        return (np.array(images), labels)\n",
    "\n",
    "\n",
    "train_images, train_labels = [np.vstack(tr) for tr in zip(*[\n",
    "        unpickle(os.path.join('cifar-10-batches-py', f'data_batch_{i+1}')) for i in range(5)])]\n",
    "\n",
    "test_images, test_labels = unpickle(os.path.join('cifar-10-batches-py', 'test_batch'))"
   ]
  },
  {
   "cell_type": "markdown",
   "metadata": {
    "deletable": false,
    "editable": false,
    "id": "F6AECcmbWJCj",
    "nbgrader": {
     "cell_type": "markdown",
     "checksum": "cdddca76e8c99a3f443d423b3e050f86",
     "grade": false,
     "grade_id": "cell-2492e7662846ede7",
     "locked": true,
     "schema_version": 3,
     "solution": false,
     "task": false
    }
   },
   "source": [
    "## Model evaluation function\n",
    "\n",
    "Next up we'll provide a function that you can use for training your neural networks. This function takes a neural network `model`, training and validation data, and does a couple of things:\n",
    "\n",
    "* Compiles the model using\n",
    "    * a [CategoricalCrossentropy](https://www.tensorflow.org/api_docs/python/tf/keras/losses/CategoricalCrossentropy) loss function. This is the same classification error function we used in combination with the Softmax activation.\n",
    "    * an additional metric of [Accuracy](https://www.tensorflow.org/api_docs/python/tf/keras/metrics/Accuracy), to see how well the predictions match the actual labels.\n",
    "    * an [Adam](https://www.tensorflow.org/api_docs/python/tf/keras/optimizers/Adam) optimizer, which is a more advanced version of the gradient descent algorithm we've used up to this point to optimize the weights.\n",
    "* Creates a preprocessing [ImageDataGenerator](https://www.tensorflow.org/api_docs/python/tf/keras/preprocessing/image/ImageDataGenerator) for the training and validation data.\n",
    "* Fits the compiled model using the preprocessed training data for the specified number of *epochs*.\n",
    "* Plots the loss and accuracy for the training and validation data for each epoch.\n",
    "* Prints the final validation accuracy.\n",
    "\n",
    "We'll dive more deeply into what the preprocessing steps can do exactly in later sections. For now, no preprocessing is applied. Make sure you understand what all the other steps do before moving on to the next section."
   ]
  },
  {
   "cell_type": "code",
   "execution_count": null,
   "metadata": {
    "deletable": false,
    "editable": false,
    "id": "ZFwTWC1dWJCk",
    "nbgrader": {
     "cell_type": "code",
     "checksum": "be7a73ce41d6bda166352a29ecdc5c37",
     "grade": false,
     "grade_id": "cell-a39ab401147c798d",
     "locked": true,
     "schema_version": 3,
     "solution": false,
     "task": false
    }
   },
   "outputs": [],
   "source": [
    "import matplotlib.pyplot as plt\n",
    "\n",
    "from tensorflow.keras import layers, models, preprocessing\n",
    "\n",
    "def train_and_evaluate(model, train_x, train_y, val_x, val_y, preprocess={}, epochs=20, augment={}):\n",
    "\n",
    "    model.compile(loss='categorical_crossentropy', optimizer='adam', metrics=['accuracy'])\n",
    "\n",
    "    train_gen = preprocessing.image.ImageDataGenerator(**preprocess, **augment)\n",
    "    train_gen.fit(train_x)\n",
    "\n",
    "    # Note: The validation preprocessor is created without any augmentations. See Q10 for the reason.\n",
    "    val_gen = preprocessing.image.ImageDataGenerator(**preprocess)\n",
    "    # Note: The validation preprocessor is fitted on the training data. See Q3 for the reason.\n",
    "    val_gen.fit(train_x)\n",
    "\n",
    "    history = model.fit(train_gen.flow(train_x, train_y), epochs=epochs, \n",
    "                        validation_data=val_gen.flow(val_x, val_y))\n",
    "\n",
    "    fig, axs = plt.subplots(1,2,figsize=(20,5)) \n",
    "\n",
    "    for i, metric in enumerate(['loss', 'accuracy']):\n",
    "        axs[i].plot(history.history[metric])\n",
    "        axs[i].plot(history.history['val_'+metric])\n",
    "        axs[i].legend(['training', 'validation'], loc='best')\n",
    "\n",
    "        axs[i].set_title('Model '+metric)\n",
    "        axs[i].set_ylabel(metric)\n",
    "        axs[i].set_xlabel('epoch')\n",
    "\n",
    "    plt.show()\n",
    "\n",
    "    print(f\"Validation Accuracy: {model.evaluate(val_gen.flow(val_x, val_y))[1]}\")"
   ]
  },
  {
   "cell_type": "markdown",
   "metadata": {
    "deletable": false,
    "editable": false,
    "id": "pH4nEvwJWJCm",
    "nbgrader": {
     "cell_type": "markdown",
     "checksum": "eef746492d1cc47b94111fbbd203a7cd",
     "grade": false,
     "grade_id": "cell-19ec71d1405fa6eb",
     "locked": true,
     "schema_version": 3,
     "solution": false,
     "task": false
    }
   },
   "source": [
    "## Creating a basic CNN model\n",
    "\n",
    "Below is a basic Convolutional Neural Network with 2 convolutional layers. The first layer has 32 filters and the second one has 64 filters. After each convolutional layer a max pooling layer is applied. Next, after the convolutional layers, a fully connected layer with 256 hidden nodes is applied, and finally a softmax layer with 10 outputs for each of the 10 classes.\n",
    "\n",
    "Using the function from above, this model is then fitted on training data and evaluated on the validation data. You should get a validation accuracy of about *62%*. This means that already *62%* of the validation images is correctly classified as 1 of the 10 possible classes. Clearly, the network is learning something, as a random prediction for the validation set should result in about *10%* accuracy. Looking at the learning curves it also seems like the network is indeed learning something, although there is clearly room for improvement too.\n",
    "\n",
    "Incrementally improving this network will be the core task of this assignment. For each subsequent improvement you should copy the network from the previous cell and make the new improvements in addition to the other improvements already made. You should of course start with the basic model provided here and the goal will be to improve the validation accuracy as much as possible.\n"
   ]
  },
  {
   "cell_type": "code",
   "execution_count": null,
   "metadata": {
    "colab": {
     "base_uri": "https://localhost:8080/",
     "height": 1000
    },
    "deletable": false,
    "editable": false,
    "id": "EQvkrzA9WJCp",
    "nbgrader": {
     "cell_type": "code",
     "checksum": "f99071b3f0671f99b18bfc30c8c0b86a",
     "grade": false,
     "grade_id": "cell-24c08c81ad9e51b0",
     "locked": true,
     "schema_version": 3,
     "solution": false,
     "task": false
    },
    "outputId": "7a51a43f-4326-4808-babf-71c2d08e79f6"
   },
   "outputs": [],
   "source": [
    "model = models.Sequential()\n",
    "model.add(layers.Conv2D(32, (3, 3), activation='relu', padding='same', input_shape=(32, 32, 3)))\n",
    "model.add(layers.MaxPooling2D((2, 2)))\n",
    "model.add(layers.Conv2D(64, (3, 3), activation='relu', padding='same'))\n",
    "model.add(layers.MaxPooling2D((2, 2)))\n",
    "\n",
    "model.add(layers.Flatten())\n",
    "model.add(layers.Dense(256, activation='relu'))\n",
    "model.add(layers.Dense(10, activation='softmax'))\n",
    "\n",
    "train_and_evaluate(model, train_images, train_labels, test_images, test_labels)"
   ]
  },
  {
   "cell_type": "markdown",
   "metadata": {
    "deletable": false,
    "editable": false,
    "id": "tFtQhtwpWJCp",
    "nbgrader": {
     "cell_type": "markdown",
     "checksum": "af35436ffd25bd8e3f8d5f3a58857920",
     "grade": false,
     "grade_id": "cell-4cc33c6cf5e9e22b",
     "locked": true,
     "schema_version": 3,
     "solution": false,
     "task": false
    }
   },
   "source": [
    "Part of the assignment will also be to analyse the learning curves at each step to see if a specific improvement is likely to increase the validation accuracy. However, there is one important thing to note about these curves, which might be confusing otherwise. The training cost at each epoch is computed as the *average training cost* of all the batches in the epoch. This means for the first few batches the cost will probably be higher and will get lower with subsequent batches. The validation cost is computed after all the batches have been processed, meaning this cost can actually be *lower* than the training cost.\n",
    "\n",
    "Normally, you would expect the training cost to always be lower than the validation cost, but because the training cost is computed as an average (which is more efficient) this might not be the case. The general shape of the training curve, especially for later iterations, will still be correct and so is still useful for analysis in the same way."
   ]
  },
  {
   "cell_type": "markdown",
   "metadata": {
    "deletable": false,
    "editable": false,
    "nbgrader": {
     "cell_type": "markdown",
     "checksum": "af892e8525e61db3a44f475bc6206dca",
     "grade": false,
     "grade_id": "cell-94e127176cbbec33",
     "locked": true,
     "schema_version": 3,
     "solution": false,
     "task": false
    }
   },
   "source": [
    "### Collaborative Questions\n",
    "\n",
    "All open questions in this notebook are a little harder then the usual open questions, so for these you can, and should, confer with a fellow student on what you think the answers should be. As a result, similar answers will of course not be a problem for these question, just make sure to also mention with which students you discussed them."
   ]
  },
  {
   "cell_type": "markdown",
   "metadata": {
    "deletable": false,
    "editable": false,
    "id": "h0bxSAjAWJCr",
    "nbgrader": {
     "cell_type": "markdown",
     "checksum": "79bf95c0968df81ec6dd0cbdb75e754b",
     "grade": false,
     "grade_id": "cell-b68532f5d553df80",
     "locked": true,
     "schema_version": 3,
     "solution": false,
     "task": false
    }
   },
   "source": [
    "**CQ1. Explain why you would normally expect the training cost to always be lower than the validation cost.**"
   ]
  },
  {
   "cell_type": "markdown",
   "metadata": {
    "deletable": false,
    "id": "O6-OAgUZWJCr",
    "nbgrader": {
     "cell_type": "markdown",
     "checksum": "91acccea80b119f7f068eb07ca3ec619",
     "grade": true,
     "grade_id": "cell-e8c0fce54aa46505",
     "locked": false,
     "points": 0,
     "schema_version": 3,
     "solution": true,
     "task": false
    }
   },
   "source": [
    "*Your answer goes here.*"
   ]
  },
  {
   "cell_type": "markdown",
   "metadata": {
    "deletable": false,
    "editable": false,
    "id": "BXAO1L-vWJCs",
    "nbgrader": {
     "cell_type": "markdown",
     "checksum": "5c4b4e4f690a5af75dbb8496c7d05756",
     "grade": false,
     "grade_id": "cell-0d5dffa08edb7e5d",
     "locked": true,
     "schema_version": 3,
     "solution": false,
     "task": false
    }
   },
   "source": [
    "### Assignment 1: Normalizing the input data\n",
    "\n",
    "The basic CNN model seems to clearly be overfitting, but before we address that, we'll start by normalizing the input. This is a first step that is important for many ML models, but specifically for deep neural networks, as ReLU activations are only actually non-linear around an input of 0 (where the input switches from 0 to a linear output). This means that, for the ReLU activations to really be effective, you would want the average combined inputs to end up around 0, which is why *mean centering the data* is so important.\n",
    "\n",
    "You could use something like `np.mean` to compute the average input in all the training images and then subtract that average from every input, but the easiest way is to use the data preprocessor [ImageDataGenerator](https://www.tensorflow.org/api_docs/python/tf/keras/preprocessing/image/ImageDataGenerator). To use this together with the `train_and_evaluate()` function, you'll need to use the optional `preprocess` argument, which is a [keyword argument dictionary](https://docs.python.org/3/glossary.html#term-argument).\n",
    "\n",
    "Each key in the *keyword argument dictionary* should be a string of the keyword you want to pass to the function and the value in the dictionary should be the corresponding parameter value you want to pass to the function. In order to mean center the data, we want to enable `featurewise_center`, so that would look like\n",
    "\n",
    "    preprocess = {'featurewise_center': True}\n",
    "\n",
    "Use this keyword argument dictionary to enable mean centering the data as a preprocessing step. In addition, the training data should be normalized to have a standard deviation of 1, for which there is also a keyword argument. The `train_and_evaluate()` function will then apply these same preprocessing steps to both the training and the validation data.\n",
    "\n",
    "Start by copying the model from the cell before and then modify the `train_and_evaluate()` call to apply the mean centering and standard deviation normalization preprocessing to your data. If done correctly, your validation accuracy should increase to about *71%*.\n"
   ]
  },
  {
   "cell_type": "markdown",
   "metadata": {
    "deletable": false,
    "editable": false,
    "id": "DuhY0C-GWJCt",
    "nbgrader": {
     "cell_type": "markdown",
     "checksum": "9ec06747a91357eb4b38354f974ddf81",
     "grade": false,
     "grade_id": "cell-9bed7700bb32cefd",
     "locked": true,
     "schema_version": 3,
     "solution": false,
     "task": false
    }
   },
   "source": [
    "**CQ2. Explain why normalizing your image features (i.e. pixels) to all have a standard deviation of 1 might also be important for deep neural networks with ReLU activations.**"
   ]
  },
  {
   "cell_type": "markdown",
   "metadata": {
    "deletable": false,
    "id": "5-kGatp_WJCu",
    "nbgrader": {
     "cell_type": "markdown",
     "checksum": "b69fbfeb4f15c4cc880fdf12797c1d96",
     "grade": true,
     "grade_id": "cell-7fdc4dc59afcdbba",
     "locked": false,
     "points": 0,
     "schema_version": 3,
     "solution": true,
     "task": false
    }
   },
   "source": [
    "*Your answer goes here.*"
   ]
  },
  {
   "cell_type": "markdown",
   "metadata": {
    "deletable": false,
    "editable": false,
    "id": "N2VZGV2ZWJCv",
    "nbgrader": {
     "cell_type": "markdown",
     "checksum": "abf2d342c8416b0355b25e9bb89cf5a5",
     "grade": false,
     "grade_id": "cell-0883918c9c618435",
     "locked": true,
     "schema_version": 3,
     "solution": false,
     "task": false
    }
   },
   "source": [
    "**CQ3. Explain why it is so important you apply the same normalization to your training and validation data. What would happen if the function did not do this?**"
   ]
  },
  {
   "cell_type": "markdown",
   "metadata": {
    "deletable": false,
    "id": "eJHI-KD7WJCv",
    "nbgrader": {
     "cell_type": "markdown",
     "checksum": "a899bb38116aab9bdbf31dbf057c5350",
     "grade": true,
     "grade_id": "cell-1ee7de32ba046e96",
     "locked": false,
     "points": 0,
     "schema_version": 3,
     "solution": true,
     "task": false
    }
   },
   "source": [
    "*Your answer goes here.*"
   ]
  },
  {
   "cell_type": "code",
   "execution_count": null,
   "metadata": {
    "colab": {
     "base_uri": "https://localhost:8080/",
     "height": 1000
    },
    "deletable": false,
    "id": "5Nc_Qx1PWJCw",
    "nbgrader": {
     "cell_type": "code",
     "checksum": "445b4d42b8f94b4776e8bd0d0e5bcfa1",
     "grade": true,
     "grade_id": "cell-51961082ca226a52",
     "locked": false,
     "points": 0,
     "schema_version": 3,
     "solution": true,
     "task": false
    },
    "outputId": "ff3c9dd5-0a25-467b-c87a-40f792e5d947"
   },
   "outputs": [],
   "source": [
    "# YOUR CODE HERE\n"
   ]
  },
  {
   "cell_type": "markdown",
   "metadata": {
    "deletable": false,
    "editable": false,
    "id": "iirvKw5CWJCy",
    "nbgrader": {
     "cell_type": "markdown",
     "checksum": "0d127a24a4d4d0a264662cab51b8b0a5",
     "grade": false,
     "grade_id": "cell-5fb52d10518130b8",
     "locked": true,
     "schema_version": 3,
     "solution": false,
     "task": false
    }
   },
   "source": [
    "### Assignment 2: Adding Dropout\n",
    "\n",
    "Looking at the learning curves from the previous cell, it seems like the model is definitely overfitting. An easy and effective way to address this can be adding dropout layers to the network. [Dropout](https://www.tensorflow.org/api_docs/python/tf/keras/layers/Dropout) layers are already included in `tensorflow` and all you need to specify for this layer is the probability for each input to be dropped (i.e. for the input to be set to 0).\n",
    "\n",
    "Copy your code from the previous cell and add dropout layers to your network. You should add a Dropout layer before each of the 2 Dense layers, both with a probability of *0.3*, so approximately *30%* of the inputs of these layers will be set to 0! As you want to maintain more of the network activations closer to the network input, only add a Dropout layer before the *last* Conv2D layer, with a lower dropping probability of *0.2*. If done correctly, your validation accuracy should increase to about *75%*.\n"
   ]
  },
  {
   "cell_type": "markdown",
   "metadata": {
    "deletable": false,
    "editable": false,
    "id": "Jsi0oEhUWJCy",
    "nbgrader": {
     "cell_type": "markdown",
     "checksum": "3b61a267935fc959e6a1c8bcd44a86ec",
     "grade": false,
     "grade_id": "cell-adf3174d157bfdf5",
     "locked": true,
     "schema_version": 3,
     "solution": false,
     "task": false
    }
   },
   "source": [
    "**CQ4. Explain what part exactly of the learning curves from the previous cell showed that the model was overfitting.**"
   ]
  },
  {
   "cell_type": "markdown",
   "metadata": {
    "deletable": false,
    "id": "RLtp2JT4WJCz",
    "nbgrader": {
     "cell_type": "markdown",
     "checksum": "80ad4d4b9e5f5135565da9e160cdd979",
     "grade": true,
     "grade_id": "cell-c62da20cd9cd2275",
     "locked": false,
     "points": 0,
     "schema_version": 3,
     "solution": true,
     "task": false
    }
   },
   "source": [
    "*Your answer goes here.*"
   ]
  },
  {
   "cell_type": "markdown",
   "metadata": {
    "deletable": false,
    "editable": false,
    "id": "hyvrnm2TWJCz",
    "nbgrader": {
     "cell_type": "markdown",
     "checksum": "963d0d016fab1e684c65804fca4a1344",
     "grade": false,
     "grade_id": "cell-30973d09e5bb1a0a",
     "locked": true,
     "schema_version": 3,
     "solution": false,
     "task": false
    }
   },
   "source": [
    "**CQ5. Explain in your own words why adding dropout reduces the chance of the model overfitting.**"
   ]
  },
  {
   "cell_type": "markdown",
   "metadata": {
    "deletable": false,
    "id": "uWy9ZPy-WJC0",
    "nbgrader": {
     "cell_type": "markdown",
     "checksum": "d5925070e4329e470d074823c8a9cd3c",
     "grade": true,
     "grade_id": "cell-d9fe8ee2b68e011a",
     "locked": false,
     "points": 0,
     "schema_version": 3,
     "solution": true,
     "task": false
    }
   },
   "source": [
    "*Your answer goes here.*"
   ]
  },
  {
   "cell_type": "code",
   "execution_count": null,
   "metadata": {
    "colab": {
     "base_uri": "https://localhost:8080/",
     "height": 1000
    },
    "deletable": false,
    "id": "3hXh1uLgWJC0",
    "nbgrader": {
     "cell_type": "code",
     "checksum": "46e3c2cef9ddbc32bbd8275925719625",
     "grade": true,
     "grade_id": "cell-4b74bb0b8ac53258",
     "locked": false,
     "points": 0,
     "schema_version": 3,
     "solution": true,
     "task": false
    },
    "outputId": "398212e8-d5ce-4df5-d9df-176aeaa983d3"
   },
   "outputs": [],
   "source": [
    "# YOUR CODE HERE\n"
   ]
  },
  {
   "cell_type": "markdown",
   "metadata": {
    "deletable": false,
    "editable": false,
    "id": "vvfVFfd7WJC1",
    "nbgrader": {
     "cell_type": "markdown",
     "checksum": "a443516a89bc11d22297fd7ca21bc55b",
     "grade": false,
     "grade_id": "cell-cf2065690e73266c",
     "locked": true,
     "schema_version": 3,
     "solution": false,
     "task": false
    }
   },
   "source": [
    "Looking at the learning curves, the network also doesn't seem to be overfitting any more! An important thing to note about the training cost here is that it may again become higher than the validation cost. During training, dropout is active and some of the inputs get dropped, but when evaluating the validation data, all inputs are used, probably resulting in better prediction and thus a lower cost. To get a better estimate of the true training cost, we would need to add a full evaluation of the training data at each epoch too, but then we'd effectively double the computation for training data at each epoch, making the algorithm much slower. The training cost's current curve still has a useful shape for analysis, but the true training cost would be lower at every epoch.\n",
    "\n",
    "### Assignment 3: Making the network deeper\n",
    "\n",
    "Now that the network doesn't appear to be overfitting anymore, we can again try to add more complexity to the network and try to make it deeper. This should allow the network to learn more high level features and therefore hopefully improve performance further. \n",
    "\n",
    "Start by copying the code from the previous cell and add 2 more Conv2D layers to the network; the first one with 128 filters and the second one with 256 filters. The new layers should be inserted after the existing convolutional layers, and both convolutional layers should have a Dropout layer *before*, using a dropping probability of 0.2, and a MaxPooling layer *after* (i.e. the same structure as the last convolutional layer).\n",
    "\n",
    "As the network is now deeper, it will also take longer to train, so increase the number of epochs in `train_and_evalute()` to *50*. If all steps are done correctly, your validation accuracy should increase to about *79%*.\n"
   ]
  },
  {
   "cell_type": "code",
   "execution_count": null,
   "metadata": {
    "colab": {
     "base_uri": "https://localhost:8080/",
     "height": 1000
    },
    "deletable": false,
    "id": "s0w-eyrgWJC1",
    "nbgrader": {
     "cell_type": "code",
     "checksum": "0e67394f004a66d24cb7317a5c3924d1",
     "grade": true,
     "grade_id": "cell-8fc4131728f881e3",
     "locked": false,
     "points": 0,
     "schema_version": 3,
     "solution": true,
     "task": false
    },
    "outputId": "c0e75885-5af0-49a3-b533-eef7a3a9a418"
   },
   "outputs": [],
   "source": [
    "# YOUR CODE HERE\n"
   ]
  },
  {
   "cell_type": "markdown",
   "metadata": {
    "deletable": false,
    "editable": false,
    "id": "PZqWvZ8fWJC2",
    "nbgrader": {
     "cell_type": "markdown",
     "checksum": "24617f9cd714e704ebcd947afcefc637",
     "grade": false,
     "grade_id": "cell-3c7a823ecd0f8785",
     "locked": true,
     "schema_version": 3,
     "solution": false,
     "task": false
    }
   },
   "source": [
    "As a last step, this code cell should print a summary of the `model` you've now constructed, with information about each of the added layers. Also run this cell and study the output produced there."
   ]
  },
  {
   "cell_type": "code",
   "execution_count": null,
   "metadata": {
    "colab": {
     "base_uri": "https://localhost:8080/"
    },
    "deletable": false,
    "editable": false,
    "id": "cLbYgABmWJC3",
    "nbgrader": {
     "cell_type": "code",
     "checksum": "927cf3c2e8bcd2e92a00f14c2a98e994",
     "grade": false,
     "grade_id": "cell-2d3734273d84061c",
     "locked": true,
     "schema_version": 3,
     "solution": false,
     "task": false
    },
    "outputId": "83c6baa2-e893-4175-8cd6-2fe3a93b4261"
   },
   "outputs": [],
   "source": [
    "model.summary()"
   ]
  },
  {
   "cell_type": "markdown",
   "metadata": {
    "deletable": false,
    "editable": false,
    "id": "MU1JjAsFWJC5",
    "nbgrader": {
     "cell_type": "markdown",
     "checksum": "cb35a57c3bfa7d34087144271afba2ef",
     "grade": false,
     "grade_id": "cell-b9e7ab7bb4d390ad",
     "locked": true,
     "schema_version": 3,
     "solution": false,
     "task": false
    }
   },
   "source": [
    "**CQ6. Which layer has the largest total output volume (i.e. total number of nodes)? Explain why this layer has the most nodes.**"
   ]
  },
  {
   "cell_type": "markdown",
   "metadata": {
    "deletable": false,
    "id": "UA7WJnqCWJC5",
    "nbgrader": {
     "cell_type": "markdown",
     "checksum": "0899508020314f715c1d1dc486f94d22",
     "grade": true,
     "grade_id": "cell-889484006a7eaa31",
     "locked": false,
     "points": 0,
     "schema_version": 3,
     "solution": true,
     "task": false
    }
   },
   "source": [
    "*Your answer goes here.*"
   ]
  },
  {
   "cell_type": "markdown",
   "metadata": {
    "deletable": false,
    "editable": false,
    "id": "xw8rGaXlWJC6",
    "nbgrader": {
     "cell_type": "markdown",
     "checksum": "d3046d986cacb897f7b81fffed02d22c",
     "grade": false,
     "grade_id": "cell-e0b64dc2dd49ad99",
     "locked": true,
     "schema_version": 3,
     "solution": false,
     "task": false
    }
   },
   "source": [
    "**CQ7. Which layer has the largest number of trainable parameters  (i.e. weights)? Explain why this layer has the most weights.**"
   ]
  },
  {
   "cell_type": "markdown",
   "metadata": {
    "deletable": false,
    "id": "ndkKzbUCWJC6",
    "nbgrader": {
     "cell_type": "markdown",
     "checksum": "3f444709e5a5ce79d3aa57894bc6a451",
     "grade": true,
     "grade_id": "cell-66d8f34361e0b509",
     "locked": false,
     "points": 0,
     "schema_version": 3,
     "solution": true,
     "task": false
    }
   },
   "source": [
    "*Your answer goes here.*"
   ]
  },
  {
   "cell_type": "markdown",
   "metadata": {
    "deletable": false,
    "editable": false,
    "id": "iBOgazw4WJC7",
    "nbgrader": {
     "cell_type": "markdown",
     "checksum": "496482df4fa0bd9e592be00685e95494",
     "grade": false,
     "grade_id": "cell-ee31ca6722aed7c7",
     "locked": true,
     "schema_version": 3,
     "solution": false,
     "task": false
    }
   },
   "source": [
    "### Assignment 4: Adding Batch Normalization\n",
    "\n",
    "Now that the network is deeper, we might also benefit from applying batch normalization. With the preprocessing step at the start of this notebook the input features were normalized to have a 0 mean and standard deviation of 1, which helped the network learn mostly on the first layer with ReLU activations. With batch normalization this same type of scaling can be applied at each of the layers.\n",
    "\n",
    "Start by copying the code from the previous cell and add a [BatchNormalization](https://www.tensorflow.org/api_docs/python/tf/keras/layers/BatchNormalization) layer after each MaxPooling layer. Effectively, this places the BatchNormalization layers *before* each of the layers with ReLU activations, except for the input layer (which has already been normalized). If done correctly, your validation accuracy should increase to about 84%.\n"
   ]
  },
  {
   "cell_type": "markdown",
   "metadata": {
    "deletable": false,
    "editable": false,
    "id": "6PxieDQ3WJC8",
    "nbgrader": {
     "cell_type": "markdown",
     "checksum": "cdb9164a833af25e36b7ab23721a41a3",
     "grade": false,
     "grade_id": "cell-1cbc24270fd6a0c0",
     "locked": true,
     "schema_version": 3,
     "solution": false,
     "task": false
    }
   },
   "source": [
    "**CQ8. Explain in your own words why adding batch normalization improves the results of deep networks.**"
   ]
  },
  {
   "cell_type": "markdown",
   "metadata": {
    "deletable": false,
    "id": "nI0Jg4XgWJC8",
    "nbgrader": {
     "cell_type": "markdown",
     "checksum": "24d806124d3d3bf23d8e5db2f231d841",
     "grade": true,
     "grade_id": "cell-d10832854490bdbd",
     "locked": false,
     "points": 0,
     "schema_version": 3,
     "solution": true,
     "task": false
    }
   },
   "source": [
    "*Your answer goes here.*"
   ]
  },
  {
   "cell_type": "markdown",
   "metadata": {
    "deletable": false,
    "editable": false,
    "id": "Ad1GdYD1WJC9",
    "nbgrader": {
     "cell_type": "markdown",
     "checksum": "07bff6a10638637a5d8f4b803524de4d",
     "grade": false,
     "grade_id": "cell-8354d91bcc3f69fe",
     "locked": true,
     "schema_version": 3,
     "solution": false,
     "task": false
    }
   },
   "source": [
    "**CQ9. The BatchNormalization layer also has two learnable parameters, $\\beta$ and $\\gamma$, which start learning at 0 and 1 respectively. Based on the what these parameters do, you expect them to change a lot specifically when used just before a ReLU activation? Why or why not?**"
   ]
  },
  {
   "cell_type": "markdown",
   "metadata": {
    "deletable": false,
    "id": "68w2a22sWJC9",
    "nbgrader": {
     "cell_type": "markdown",
     "checksum": "2a90c1da321334edcec7e0da5f9e6ba8",
     "grade": true,
     "grade_id": "cell-fadca43d399aac4b",
     "locked": false,
     "points": 0,
     "schema_version": 3,
     "solution": true,
     "task": false
    }
   },
   "source": [
    "*Your answer goes here.*"
   ]
  },
  {
   "cell_type": "code",
   "execution_count": null,
   "metadata": {
    "colab": {
     "base_uri": "https://localhost:8080/",
     "height": 1000
    },
    "deletable": false,
    "id": "l5EqxRb4WJC9",
    "nbgrader": {
     "cell_type": "code",
     "checksum": "8b0461452acfd3932f733f4cb029ea8c",
     "grade": true,
     "grade_id": "cell-46102ca158e53d8f",
     "locked": false,
     "points": 0,
     "schema_version": 3,
     "solution": true,
     "task": false
    },
    "outputId": "8be429fb-d75b-448c-f7a9-38002a2cab90"
   },
   "outputs": [],
   "source": [
    "# YOUR CODE HERE\n"
   ]
  },
  {
   "cell_type": "markdown",
   "metadata": {
    "deletable": false,
    "editable": false,
    "id": "8XnJWB_VWJC-",
    "nbgrader": {
     "cell_type": "markdown",
     "checksum": "cf4df0ddae79e8030dedda1b47590d70",
     "grade": false,
     "grade_id": "cell-f9be14137c261b13",
     "locked": true,
     "schema_version": 3,
     "solution": false,
     "task": false
    }
   },
   "source": [
    "### Assignment 5: Data Augmentation\n",
    "\n",
    "The last change we'll try to make is using data augmentation, which artificially increases the size of the data by making variations in the training data. Augmentations on the data can be done using the [ImageDataGenerator](https://www.tensorflow.org/api_docs/python/tf/keras/preprocessing/image/ImageDataGenerator), which we used for preprocessing earlier.\n",
    "\n",
    "The possible augmentations and the ranges for their values are listed in the documentation of [ImageDataGenerator](https://www.tensorflow.org/api_docs/python/tf/keras/preprocessing/image/ImageDataGenerator). Augmentations should be set in the `train_and_evaluate()` function using a separate *keyword argument dictionary*, which is called `augment`. For example, if you wanted to enable horizontal mirroring and a random zoom of maximum *10%* on training images, you would use\n",
    "\n",
    "    augment = {'horizontal_flip': True, 'zoom_range': 0.1}\n",
    "\n",
    "Try to find a combination of augmentations that improve the accuracy on the validation set even further. As the data set will now contain random variations, you'll probably have to increase the number of epochs quite a bit, depending on how many and how large a range of augmentations you make. This means training might actually take a long time, so it is not required to try enough combinations until you find a better validation accuracy, but only that you try and report your findings below. \n"
   ]
  },
  {
   "cell_type": "code",
   "execution_count": null,
   "metadata": {
    "colab": {
     "base_uri": "https://localhost:8080/",
     "height": 1000
    },
    "deletable": false,
    "id": "eA0F_TblWJC_",
    "nbgrader": {
     "cell_type": "code",
     "checksum": "90a56c7c1615603697b34a6362d4a9bc",
     "grade": true,
     "grade_id": "cell-6d1142c11a2f5414",
     "locked": false,
     "points": 0,
     "schema_version": 3,
     "solution": true,
     "task": false
    },
    "outputId": "9f40b3ad-31ac-427b-f697-89604db32527"
   },
   "outputs": [],
   "source": [
    "# YOUR CODE HERE\n"
   ]
  },
  {
   "cell_type": "markdown",
   "metadata": {
    "deletable": false,
    "editable": false,
    "id": "ahv6U41jWJDA",
    "nbgrader": {
     "cell_type": "markdown",
     "checksum": "17e31978393dc88cb46ec8b43522b10b",
     "grade": false,
     "grade_id": "cell-cfdd9c23f3d1d274",
     "locked": true,
     "schema_version": 3,
     "solution": false,
     "task": false
    }
   },
   "source": [
    "**CQ10. Explain why you would want to apply the augmentation to your training, but not your validation data. What would happen if the function did apply the augmentation to both?**"
   ]
  },
  {
   "cell_type": "markdown",
   "metadata": {
    "deletable": false,
    "id": "1tj1wwuOWJDB",
    "nbgrader": {
     "cell_type": "markdown",
     "checksum": "1aa78aef5acac4ac7d9931cea2b6ebeb",
     "grade": true,
     "grade_id": "cell-02f8f0945d4c9bdd",
     "locked": false,
     "points": 0,
     "schema_version": 3,
     "solution": true,
     "task": false
    }
   },
   "source": [
    "*Your answer goes here.*"
   ]
  },
  {
   "cell_type": "markdown",
   "metadata": {
    "deletable": false,
    "editable": false,
    "id": "MXCeN33VWJDC",
    "nbgrader": {
     "cell_type": "markdown",
     "checksum": "ad2cd4aaec53a0c44f0970475b4dfd86",
     "grade": false,
     "grade_id": "cell-0a872cffc2986f9c",
     "locked": true,
     "schema_version": 3,
     "solution": false,
     "task": false
    }
   },
   "source": [
    "**CQ11. Which augmentations did you try? Which augmentations gave the best results? Can you think of a reason why these augmentations specifically would be effective for the CIFAR-10 images?**"
   ]
  },
  {
   "cell_type": "markdown",
   "metadata": {
    "deletable": false,
    "id": "z6dzh8CDWJDC",
    "nbgrader": {
     "cell_type": "markdown",
     "checksum": "938dc16d8769c30e41598b1a071367bb",
     "grade": true,
     "grade_id": "cell-183618e0ed28c623",
     "locked": false,
     "points": 0,
     "schema_version": 3,
     "solution": true,
     "task": false
    }
   },
   "source": [
    "*Your answer goes here.*"
   ]
  }
 ],
 "metadata": {
  "accelerator": "GPU",
  "colab": {
   "provenance": []
  },
  "gpuClass": "standard",
  "kernelspec": {
   "display_name": "Python 3 (ipykernel)",
   "language": "python",
   "name": "python3"
  },
  "language_info": {
   "codemirror_mode": {
    "name": "ipython",
    "version": 3
   },
   "file_extension": ".py",
   "mimetype": "text/x-python",
   "name": "python",
   "nbconvert_exporter": "python",
   "pygments_lexer": "ipython3",
   "version": "3.10.12"
  }
 },
 "nbformat": 4,
 "nbformat_minor": 1
}
